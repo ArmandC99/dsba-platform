{
 "cells": [
  {
   "cell_type": "markdown",
   "id": "fad5c917",
   "metadata": {},
   "source": [
    "## the goal is to test if I can access the api and to check how it works"
   ]
  },
  {
   "cell_type": "code",
   "execution_count": 13,
   "id": "2ffc7f48",
   "metadata": {},
   "outputs": [],
   "source": [
    "import requests\n",
    "import json\n",
    "import pandas as pd\n",
    "import time\n",
    "from IPython.display import display, HTML"
   ]
  },
  {
   "cell_type": "code",
   "execution_count": 14,
   "id": "b4e921a8",
   "metadata": {},
   "outputs": [],
   "source": [
    "# URL de base de l'API\n",
    "BASE_URL = \"http://localhost:8000\"\n",
    "\n",
    "# Inputs pour l'API Titanic\n",
    "sample_passenger = {\n",
    "    \"Pclass\": 1,                        # Classe (1, 2 ou 3)\n",
    "    \"Name\": \"Doe, Jane\",                # Nom\n",
    "    \"Sex\": \"female\",                    # Sexe ('male' ou 'female')\n",
    "    \"Age\": 29,                          # Âge\n",
    "    \"SibSp\": 0,                         # Nombre de frères/sœurs/époux à bord\n",
    "    \"Parch\": 0,                         # Nombre de parents/enfants à bord\n",
    "    \"Ticket\": \"PC 17599\",               # Numéro de billet\n",
    "    \"Fare\": 100,                        # Prix du billet\n",
    "    \"Cabin\": \"C54\",                     # Cabine\n",
    "    \"Embarked\": \"C\"                     # Port d'embarquement (C=Cherbourg, Q=Queenstown, S=Southampton)\n",
    "}\n"
   ]
  },
  {
   "cell_type": "code",
   "execution_count": 21,
   "id": "0b2f291c",
   "metadata": {},
   "outputs": [],
   "source": [
    "# Test de l'API\n",
    "def test_api():\n",
    "    # Test endpoint principal\n",
    "    print(\"Test de l'endpoint principal...\")\n",
    "    response = requests.get(f\"{BASE_URL}/models/\")\n",
    "    print(f\"Statut: {response.status_code}\")\n",
    "    print(f\"Réponse: {response.json()}\")\n",
    "    \n",
    "    # Test de prédiction\n",
    "    print(\"\\nTest de prédiction de survie...\")\n",
    "    response = requests.post(f\"{BASE_URL}/predict/\", json=sample_passenger)\n",
    "    \n",
    "    if response.status_code == 200:\n",
    "        result = response.json()\n",
    "        print(f\"Statut: {response.status_code} OK\")\n",
    "        print(f\"Prédiction: {result['survival_status']}\")\n",
    "        print(f\"Données passager utilisées: {result['passenger_data']}\")\n",
    "    else:\n",
    "        print(f\"Erreur {response.status_code}: {response.text}\")\n"
   ]
  },
  {
   "cell_type": "code",
   "execution_count": 22,
   "id": "09e4b231",
   "metadata": {},
   "outputs": [
    {
     "name": "stdout",
     "output_type": "stream",
     "text": [
      "Test de l'endpoint principal...\n",
      "Statut: 200\n",
      "Réponse: []\n",
      "\n",
      "Test de prédiction de survie...\n",
      "Erreur 422: {\"detail\":[{\"type\":\"missing\",\"loc\":[\"query\",\"query\"],\"msg\":\"Field required\",\"input\":null},{\"type\":\"missing\",\"loc\":[\"query\",\"model_id\"],\"msg\":\"Field required\",\"input\":null}]}\n"
     ]
    }
   ],
   "source": [
    "test_api()"
   ]
  },
  {
   "cell_type": "code",
   "execution_count": null,
   "id": "6ce02371",
   "metadata": {},
   "outputs": [],
   "source": []
  }
 ],
 "metadata": {
  "kernelspec": {
   "display_name": "Python 3",
   "language": "python",
   "name": "python3"
  },
  "language_info": {
   "codemirror_mode": {
    "name": "ipython",
    "version": 3
   },
   "file_extension": ".py",
   "mimetype": "text/x-python",
   "name": "python",
   "nbconvert_exporter": "python",
   "pygments_lexer": "ipython3",
   "version": "3.12.8"
  }
 },
 "nbformat": 4,
 "nbformat_minor": 5
}
